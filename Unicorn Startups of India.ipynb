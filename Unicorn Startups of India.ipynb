{
 "cells": [
  {
   "cell_type": "code",
   "execution_count": 1,
   "id": "97984bd8",
   "metadata": {
    "_cell_guid": "b1076dfc-b9ad-4769-8c92-a6c4dae69d19",
    "_uuid": "8f2839f25d086af736a60e9eeb907d3b93b6e0e5",
    "execution": {
     "iopub.execute_input": "2021-12-16T10:44:26.216510Z",
     "iopub.status.busy": "2021-12-16T10:44:26.214710Z",
     "iopub.status.idle": "2021-12-16T10:44:26.243048Z",
     "shell.execute_reply": "2021-12-16T10:44:26.243524Z",
     "shell.execute_reply.started": "2021-12-16T10:41:29.408511Z"
    },
    "papermill": {
     "duration": 0.059394,
     "end_time": "2021-12-16T10:44:26.243854",
     "exception": false,
     "start_time": "2021-12-16T10:44:26.184460",
     "status": "completed"
    },
    "tags": []
   },
   "outputs": [
    {
     "data": {
      "text/html": [
       "<div>\n",
       "<style scoped>\n",
       "    .dataframe tbody tr th:only-of-type {\n",
       "        vertical-align: middle;\n",
       "    }\n",
       "\n",
       "    .dataframe tbody tr th {\n",
       "        vertical-align: top;\n",
       "    }\n",
       "\n",
       "    .dataframe thead th {\n",
       "        text-align: right;\n",
       "    }\n",
       "</style>\n",
       "<table border=\"1\" class=\"dataframe\">\n",
       "  <thead>\n",
       "    <tr style=\"text-align: right;\">\n",
       "      <th></th>\n",
       "      <th>Unnamed: 0</th>\n",
       "      <th>Company</th>\n",
       "      <th>Valuation ($B)</th>\n",
       "      <th>Date Joined</th>\n",
       "      <th>Country</th>\n",
       "      <th>City</th>\n",
       "      <th>Industry</th>\n",
       "      <th>Investor 1</th>\n",
       "      <th>Investor 2</th>\n",
       "      <th>Investor 3</th>\n",
       "      <th>Investor 4</th>\n",
       "    </tr>\n",
       "  </thead>\n",
       "  <tbody>\n",
       "    <tr>\n",
       "      <th>0</th>\n",
       "      <td>0</td>\n",
       "      <td>Bytedance</td>\n",
       "      <td>140.0</td>\n",
       "      <td>2017-04-07</td>\n",
       "      <td>China</td>\n",
       "      <td>Beijing</td>\n",
       "      <td>Artificial intelligence</td>\n",
       "      <td>Sequoia Capital China</td>\n",
       "      <td>SIG Asia Investments</td>\n",
       "      <td>Sina Weibo</td>\n",
       "      <td>Softbank Group</td>\n",
       "    </tr>\n",
       "    <tr>\n",
       "      <th>1</th>\n",
       "      <td>1</td>\n",
       "      <td>SpaceX</td>\n",
       "      <td>100.3</td>\n",
       "      <td>2012-12-01</td>\n",
       "      <td>United States</td>\n",
       "      <td>Hawthorne</td>\n",
       "      <td>Other</td>\n",
       "      <td>Founders Fund</td>\n",
       "      <td>Draper Fisher Jurvetson</td>\n",
       "      <td>Rothenberg Ventures</td>\n",
       "      <td>NaN</td>\n",
       "    </tr>\n",
       "    <tr>\n",
       "      <th>2</th>\n",
       "      <td>2</td>\n",
       "      <td>Stripe</td>\n",
       "      <td>95.0</td>\n",
       "      <td>2014-01-23</td>\n",
       "      <td>United States</td>\n",
       "      <td>San Francisco</td>\n",
       "      <td>Fintech</td>\n",
       "      <td>Khosla Ventures</td>\n",
       "      <td>LowercaseCapital</td>\n",
       "      <td>capitalG</td>\n",
       "      <td>NaN</td>\n",
       "    </tr>\n",
       "    <tr>\n",
       "      <th>3</th>\n",
       "      <td>3</td>\n",
       "      <td>Klarna</td>\n",
       "      <td>45.6</td>\n",
       "      <td>2011-12-12</td>\n",
       "      <td>Sweden</td>\n",
       "      <td>Stockholm</td>\n",
       "      <td>Fintech</td>\n",
       "      <td>Institutional Venture Partners</td>\n",
       "      <td>Sequoia Capital</td>\n",
       "      <td>General Atlantic</td>\n",
       "      <td>NaN</td>\n",
       "    </tr>\n",
       "    <tr>\n",
       "      <th>4</th>\n",
       "      <td>4</td>\n",
       "      <td>Canva</td>\n",
       "      <td>40.0</td>\n",
       "      <td>2018-01-08</td>\n",
       "      <td>Australia</td>\n",
       "      <td>Surry Hills</td>\n",
       "      <td>Internet software &amp; services</td>\n",
       "      <td>Sequoia Capital China</td>\n",
       "      <td>Blackbird Ventures</td>\n",
       "      <td>Matrix Partners</td>\n",
       "      <td>NaN</td>\n",
       "    </tr>\n",
       "    <tr>\n",
       "      <th>...</th>\n",
       "      <td>...</td>\n",
       "      <td>...</td>\n",
       "      <td>...</td>\n",
       "      <td>...</td>\n",
       "      <td>...</td>\n",
       "      <td>...</td>\n",
       "      <td>...</td>\n",
       "      <td>...</td>\n",
       "      <td>...</td>\n",
       "      <td>...</td>\n",
       "      <td>...</td>\n",
       "    </tr>\n",
       "    <tr>\n",
       "      <th>931</th>\n",
       "      <td>931</td>\n",
       "      <td>YipitData</td>\n",
       "      <td>1.0</td>\n",
       "      <td>2021-12-06</td>\n",
       "      <td>United States</td>\n",
       "      <td>New York</td>\n",
       "      <td>Internet software &amp; services</td>\n",
       "      <td>RRE Ventures+</td>\n",
       "      <td>Highland Capital Partners</td>\n",
       "      <td>The Carlyle Group</td>\n",
       "      <td>NaN</td>\n",
       "    </tr>\n",
       "    <tr>\n",
       "      <th>932</th>\n",
       "      <td>932</td>\n",
       "      <td>Anyscale</td>\n",
       "      <td>1.0</td>\n",
       "      <td>2021-12-07</td>\n",
       "      <td>United States</td>\n",
       "      <td>Berkeley</td>\n",
       "      <td>Artificial intelligence</td>\n",
       "      <td>Andreessen Horowitz</td>\n",
       "      <td>Intel Capital</td>\n",
       "      <td>Foundation Capital</td>\n",
       "      <td>NaN</td>\n",
       "    </tr>\n",
       "    <tr>\n",
       "      <th>933</th>\n",
       "      <td>933</td>\n",
       "      <td>Iodine Software</td>\n",
       "      <td>1.0</td>\n",
       "      <td>2021-12-01</td>\n",
       "      <td>United States</td>\n",
       "      <td>Austin</td>\n",
       "      <td>Data management &amp; analytics</td>\n",
       "      <td>Advent International</td>\n",
       "      <td>Bain Capital Ventures</td>\n",
       "      <td>Silversmith Capital Partners</td>\n",
       "      <td>NaN</td>\n",
       "    </tr>\n",
       "    <tr>\n",
       "      <th>934</th>\n",
       "      <td>934</td>\n",
       "      <td>ReliaQuest</td>\n",
       "      <td>1.0</td>\n",
       "      <td>2021-12-01</td>\n",
       "      <td>United States</td>\n",
       "      <td>Tampa</td>\n",
       "      <td>Cybersecurity</td>\n",
       "      <td>KKR</td>\n",
       "      <td>FTV Capital</td>\n",
       "      <td>Ten Eleven Ventures</td>\n",
       "      <td>NaN</td>\n",
       "    </tr>\n",
       "    <tr>\n",
       "      <th>935</th>\n",
       "      <td>935</td>\n",
       "      <td>Pet Circle</td>\n",
       "      <td>1.0</td>\n",
       "      <td>2021-12-07</td>\n",
       "      <td>Australia</td>\n",
       "      <td>Alexandria</td>\n",
       "      <td>E-commerce &amp; direct-to-consumer</td>\n",
       "      <td>Prysm Capital</td>\n",
       "      <td>Baillie Gifford &amp; Co.</td>\n",
       "      <td>TDM Growth Partners</td>\n",
       "      <td>NaN</td>\n",
       "    </tr>\n",
       "  </tbody>\n",
       "</table>\n",
       "<p>936 rows × 11 columns</p>\n",
       "</div>"
      ],
      "text/plain": [
       "     Unnamed: 0          Company  Valuation ($B) Date Joined        Country  \\\n",
       "0             0        Bytedance           140.0  2017-04-07          China   \n",
       "1             1           SpaceX           100.3  2012-12-01  United States   \n",
       "2             2           Stripe            95.0  2014-01-23  United States   \n",
       "3             3           Klarna            45.6  2011-12-12         Sweden   \n",
       "4             4            Canva            40.0  2018-01-08      Australia   \n",
       "..          ...              ...             ...         ...            ...   \n",
       "931         931        YipitData             1.0  2021-12-06  United States   \n",
       "932         932         Anyscale             1.0  2021-12-07  United States   \n",
       "933         933  Iodine Software             1.0  2021-12-01  United States   \n",
       "934         934       ReliaQuest             1.0  2021-12-01  United States   \n",
       "935         935       Pet Circle             1.0  2021-12-07      Australia   \n",
       "\n",
       "              City                         Industry  \\\n",
       "0          Beijing          Artificial intelligence   \n",
       "1        Hawthorne                            Other   \n",
       "2    San Francisco                          Fintech   \n",
       "3        Stockholm                          Fintech   \n",
       "4      Surry Hills     Internet software & services   \n",
       "..             ...                              ...   \n",
       "931       New York     Internet software & services   \n",
       "932       Berkeley          Artificial intelligence   \n",
       "933         Austin      Data management & analytics   \n",
       "934          Tampa                    Cybersecurity   \n",
       "935     Alexandria  E-commerce & direct-to-consumer   \n",
       "\n",
       "                         Investor 1                 Investor 2  \\\n",
       "0             Sequoia Capital China       SIG Asia Investments   \n",
       "1                     Founders Fund    Draper Fisher Jurvetson   \n",
       "2                   Khosla Ventures           LowercaseCapital   \n",
       "3    Institutional Venture Partners            Sequoia Capital   \n",
       "4             Sequoia Capital China         Blackbird Ventures   \n",
       "..                              ...                        ...   \n",
       "931                   RRE Ventures+  Highland Capital Partners   \n",
       "932             Andreessen Horowitz              Intel Capital   \n",
       "933            Advent International      Bain Capital Ventures   \n",
       "934                             KKR                FTV Capital   \n",
       "935                   Prysm Capital      Baillie Gifford & Co.   \n",
       "\n",
       "                       Investor 3      Investor 4  \n",
       "0                      Sina Weibo  Softbank Group  \n",
       "1             Rothenberg Ventures             NaN  \n",
       "2                        capitalG             NaN  \n",
       "3                General Atlantic             NaN  \n",
       "4                 Matrix Partners             NaN  \n",
       "..                            ...             ...  \n",
       "931             The Carlyle Group             NaN  \n",
       "932            Foundation Capital             NaN  \n",
       "933  Silversmith Capital Partners             NaN  \n",
       "934           Ten Eleven Ventures             NaN  \n",
       "935           TDM Growth Partners             NaN  \n",
       "\n",
       "[936 rows x 11 columns]"
      ]
     },
     "execution_count": 1,
     "metadata": {},
     "output_type": "execute_result"
    }
   ],
   "source": [
    "import numpy as np\n",
    "import pandas as pd\n",
    "\n",
    "df = pd.read_csv('C:/Users/SOUBHIK MANDAL/Desktop/Data Analysis of Unicorn Startups/Unicorn_Clean.csv')\n",
    "df"
   ]
  },
  {
   "cell_type": "code",
   "execution_count": 2,
   "id": "396153b1",
   "metadata": {
    "execution": {
     "iopub.execute_input": "2021-12-16T10:44:26.467364Z",
     "iopub.status.busy": "2021-12-16T10:44:26.466631Z",
     "iopub.status.idle": "2021-12-16T10:44:26.471158Z",
     "shell.execute_reply": "2021-12-16T10:44:26.470441Z",
     "shell.execute_reply.started": "2021-12-16T10:41:29.472564Z"
    },
    "papermill": {
     "duration": 0.034361,
     "end_time": "2021-12-16T10:44:26.471306",
     "exception": false,
     "start_time": "2021-12-16T10:44:26.436945",
     "status": "completed"
    },
    "tags": []
   },
   "outputs": [
    {
     "data": {
      "text/plain": [
       "Index(['Unnamed: 0', 'Company', 'Valuation ($B)', 'Date Joined', 'Country',\n",
       "       'City', 'Industry', 'Investor 1', 'Investor 2', 'Investor 3',\n",
       "       'Investor 4'],\n",
       "      dtype='object')"
      ]
     },
     "execution_count": 2,
     "metadata": {},
     "output_type": "execute_result"
    }
   ],
   "source": [
    "df.columns"
   ]
  },
  {
   "cell_type": "code",
   "execution_count": 3,
   "id": "5de30e29",
   "metadata": {
    "execution": {
     "iopub.execute_input": "2021-12-16T10:44:26.531041Z",
     "iopub.status.busy": "2021-12-16T10:44:26.530351Z",
     "iopub.status.idle": "2021-12-16T10:44:26.810053Z",
     "shell.execute_reply": "2021-12-16T10:44:26.810554Z",
     "shell.execute_reply.started": "2021-12-16T10:41:29.481735Z"
    },
    "papermill": {
     "duration": 0.31389,
     "end_time": "2021-12-16T10:44:26.810741",
     "exception": false,
     "start_time": "2021-12-16T10:44:26.496851",
     "status": "completed"
    },
    "tags": []
   },
   "outputs": [
    {
     "data": {
      "text/plain": [
       "<AxesSubplot:>"
      ]
     },
     "execution_count": 3,
     "metadata": {},
     "output_type": "execute_result"
    },
    {
     "data": {
      "image/png": "[encoded data removed]",
      "text/plain": [
       "<Figure size 432x288 with 1 Axes>"
      ]
     },
     "metadata": {
      "needs_background": "light"
     },
     "output_type": "display_data"
    }
   ],
   "source": [
    "df.Country.value_counts().head(5).plot(kind='bar')"
   ]
  },
  {
   "cell_type": "code",
   "execution_count": 4,
   "id": "28495c80",
   "metadata": {
    "execution": {
     "iopub.execute_input": "2021-12-16T10:44:27.352336Z",
     "iopub.status.busy": "2021-12-16T10:44:27.351342Z",
     "iopub.status.idle": "2021-12-16T10:44:27.359113Z",
     "shell.execute_reply": "2021-12-16T10:44:27.359715Z",
     "shell.execute_reply.started": "2021-12-16T10:41:30.058931Z"
    },
    "papermill": {
     "duration": 0.038789,
     "end_time": "2021-12-16T10:44:27.359893",
     "exception": false,
     "start_time": "2021-12-16T10:44:27.321104",
     "status": "completed"
    },
    "tags": []
   },
   "outputs": [
    {
     "data": {
      "text/plain": [
       "<AxesSubplot:>"
      ]
     },
     "execution_count": 4,
     "metadata": {},
     "output_type": "execute_result"
    },
    {
     "data": {
      "image/png": "[encoded data removed]",
      "text/plain": [
       "<Figure size 432x288 with 1 Axes>"
      ]
     },
     "metadata": {
      "needs_background": "light"
     },
     "output_type": "display_data"
    }
   ],
   "source": [
    "df.Industry.value_counts().plot(kind='bar')"
   ]
  },
  {
   "cell_type": "code",
   "execution_count": 5,
   "id": "9d65636f",
   "metadata": {
    "execution": {
     "iopub.execute_input": "2021-12-16T10:44:27.713795Z",
     "iopub.status.busy": "2021-12-16T10:44:27.712722Z",
     "iopub.status.idle": "2021-12-16T10:44:27.715103Z",
     "shell.execute_reply": "2021-12-16T10:44:27.715759Z",
     "shell.execute_reply.started": "2021-12-16T10:41:30.141856Z"
    },
    "papermill": {
     "duration": 0.038141,
     "end_time": "2021-12-16T10:44:27.715942",
     "exception": false,
     "start_time": "2021-12-16T10:44:27.677801",
     "status": "completed"
    },
    "tags": []
   },
   "outputs": [
    {
     "data": {
      "text/plain": [
       "(51, 11)"
      ]
     },
     "execution_count": 5,
     "metadata": {},
     "output_type": "execute_result"
    }
   ],
   "source": [
    "india_df = df[df.Country=='India']\n",
    "india_df.shape"
   ]
  },
  {
   "cell_type": "code",
   "execution_count": 6,
   "id": "284edaea",
   "metadata": {
    "execution": {
     "iopub.execute_input": "2021-12-16T10:44:27.781139Z",
     "iopub.status.busy": "2021-12-16T10:44:27.780162Z",
     "iopub.status.idle": "2021-12-16T10:44:27.788812Z",
     "shell.execute_reply": "2021-12-16T10:44:27.788245Z",
     "shell.execute_reply.started": "2021-12-16T10:41:30.153533Z"
    },
    "papermill": {
     "duration": 0.041888,
     "end_time": "2021-12-16T10:44:27.788976",
     "exception": false,
     "start_time": "2021-12-16T10:44:27.747088",
     "status": "completed"
    },
    "tags": []
   },
   "outputs": [
    {
     "data": {
      "text/plain": [
       "<AxesSubplot:>"
      ]
     },
     "execution_count": 6,
     "metadata": {},
     "output_type": "execute_result"
    },
    {
     "data": {
      "image/png": "[encoded data removed]",
      "text/plain": [
       "<Figure size 432x288 with 1 Axes>"
      ]
     },
     "metadata": {
      "needs_background": "light"
     },
     "output_type": "display_data"
    }
   ],
   "source": [
    "india_df.City.value_counts().plot(kind='bar')"
   ]
  },
  {
   "cell_type": "code",
   "execution_count": 7,
   "id": "40393170",
   "metadata": {
    "execution": {
     "iopub.execute_input": "2021-12-16T10:44:27.856645Z",
     "iopub.status.busy": "2021-12-16T10:44:27.855937Z",
     "iopub.status.idle": "2021-12-16T10:44:27.858589Z",
     "shell.execute_reply": "2021-12-16T10:44:27.859091Z",
     "shell.execute_reply.started": "2021-12-16T10:41:30.169791Z"
    },
    "papermill": {
     "duration": 0.040625,
     "end_time": "2021-12-16T10:44:27.859258",
     "exception": false,
     "start_time": "2021-12-16T10:44:27.818633",
     "status": "completed"
    },
    "tags": []
   },
   "outputs": [
    {
     "data": {
      "text/plain": [
       "<AxesSubplot:>"
      ]
     },
     "execution_count": 7,
     "metadata": {},
     "output_type": "execute_result"
    },
    {
     "data": {
      "image/png": "[encoded data removed]",
      "text/plain": [
       "<Figure size 432x288 with 1 Axes>"
      ]
     },
     "metadata": {
      "needs_background": "light"
     },
     "output_type": "display_data"
    }
   ],
   "source": [
    "india_df.Industry.value_counts().plot(kind='bar')"
   ]
  },
  {
   "cell_type": "code",
   "execution_count": 8,
   "id": "da2674fb",
   "metadata": {
    "execution": {
     "iopub.execute_input": "2021-12-16T10:44:28.158193Z",
     "iopub.status.busy": "2021-12-16T10:44:28.157199Z",
     "iopub.status.idle": "2021-12-16T10:44:28.165218Z",
     "shell.execute_reply": "2021-12-16T10:44:28.165767Z",
     "shell.execute_reply.started": "2021-12-16T10:41:30.251033Z"
    },
    "papermill": {
     "duration": 0.044032,
     "end_time": "2021-12-16T10:44:28.165953",
     "exception": false,
     "start_time": "2021-12-16T10:44:28.121921",
     "status": "completed"
    },
    "tags": []
   },
   "outputs": [
    {
     "data": {
      "text/plain": [
       "80     National Stock Exchange of India\n",
       "153                                CRED\n",
       "193                     Digit Insurance\n",
       "234                           Pine Labs\n",
       "236                            Razorpay\n",
       "257                               Groww\n",
       "266                            BharatPe\n",
       "304                        PolicyBazaar\n",
       "420                    CoinSwitch Kuber\n",
       "681                             CoinDCX\n",
       "686              Acko General Insurance\n",
       "927                               Slice\n",
       "Name: Company, dtype: object"
      ]
     },
     "execution_count": 8,
     "metadata": {},
     "output_type": "execute_result"
    }
   ],
   "source": [
    "india_df[india_df.Industry == 'Fintech']['Company']"
   ]
  },
  {
   "cell_type": "code",
   "execution_count": 9,
   "id": "3900c1a3",
   "metadata": {
    "execution": {
     "iopub.execute_input": "2021-12-16T10:44:28.234798Z",
     "iopub.status.busy": "2021-12-16T10:44:28.234075Z",
     "iopub.status.idle": "2021-12-16T10:44:28.241238Z",
     "shell.execute_reply": "2021-12-16T10:44:28.241789Z",
     "shell.execute_reply.started": "2021-12-16T10:41:30.267716Z"
    },
    "papermill": {
     "duration": 0.043476,
     "end_time": "2021-12-16T10:44:28.241971",
     "exception": false,
     "start_time": "2021-12-16T10:44:28.198495",
     "status": "completed"
    },
    "tags": []
   },
   "outputs": [
    {
     "data": {
      "text/plain": [
       "12                           BYJU's\n",
       "199                       Unacademy\n",
       "215    Eruditus Executive Education\n",
       "631                          UpGrad\n",
       "898                         Vedantu\n",
       "Name: Company, dtype: object"
      ]
     },
     "execution_count": 9,
     "metadata": {},
     "output_type": "execute_result"
    }
   ],
   "source": [
    "india_df[india_df.Industry == 'Edtech']['Company']"
   ]
  },
  {
   "cell_type": "code",
   "execution_count": 10,
   "id": "49339199",
   "metadata": {
    "execution": {
     "iopub.execute_input": "2021-12-16T10:44:28.310014Z",
     "iopub.status.busy": "2021-12-16T10:44:28.309258Z",
     "iopub.status.idle": "2021-12-16T10:44:28.317660Z",
     "shell.execute_reply": "2021-12-16T10:44:28.317129Z",
     "shell.execute_reply.started": "2021-12-16T10:41:30.280111Z"
    },
    "papermill": {
     "duration": 0.043507,
     "end_time": "2021-12-16T10:44:28.317812",
     "exception": false,
     "start_time": "2021-12-16T10:44:28.274305",
     "status": "completed"
    },
    "tags": []
   },
   "outputs": [
    {
     "data": {
      "text/plain": [
       "62                   Dream11\n",
       "126                   Meesho\n",
       "245                ShareChat\n",
       "299    Mobile Premier League\n",
       "683                     apna\n",
       "794                DailyHunt\n",
       "880                  Zetwerk\n",
       "926                 NoBroker\n",
       "Name: Company, dtype: object"
      ]
     },
     "execution_count": 10,
     "metadata": {},
     "output_type": "execute_result"
    }
   ],
   "source": [
    "india_df[india_df.Industry == 'Internet software & services']['Company']"
   ]
  },
  {
   "cell_type": "code",
   "execution_count": 11,
   "id": "6857b3be",
   "metadata": {},
   "outputs": [
    {
     "data": {
      "text/plain": [
       "115       Swiggy\n",
       "221        Udaan\n",
       "231    Delhivery\n",
       "695       Rivigo\n",
       "859      Grofers\n",
       "871    BlackBuck\n",
       "Name: Company, dtype: object"
      ]
     },
     "execution_count": 11,
     "metadata": {},
     "output_type": "execute_result"
    }
   ],
   "source": [
    "india_df[india_df.Industry == 'Supply chain logistics & delivery']['Company']"
   ]
  },
  {
   "cell_type": "code",
   "execution_count": 12,
   "id": "ba3b5f53",
   "metadata": {},
   "outputs": [
    {
     "data": {
      "text/plain": [
       "83                  Ola Cabs\n",
       "252    Ola Electric Mobility\n",
       "Name: Company, dtype: object"
      ]
     },
     "execution_count": 12,
     "metadata": {},
     "output_type": "execute_result"
    }
   ],
   "source": [
    "india_df[india_df.Industry == 'Auto & transportation']['Company']"
   ]
  },
  {
   "cell_type": "code",
   "execution_count": 13,
   "id": "557deb93",
   "metadata": {},
   "outputs": [
    {
     "data": {
      "text/plain": [
       "709    InMobi\n",
       "Name: Company, dtype: object"
      ]
     },
     "execution_count": 13,
     "metadata": {},
     "output_type": "execute_result"
    }
   ],
   "source": [
    "india_df[india_df.Industry == 'Mobile & telecommunications']['Company']"
   ]
  },
  {
   "cell_type": "code",
   "execution_count": 14,
   "id": "68f070ce",
   "metadata": {},
   "outputs": [
    {
     "data": {
      "text/plain": [
       "523         CureFit\n",
       "640    Pristyn Care\n",
       "Name: Company, dtype: object"
      ]
     },
     "execution_count": 14,
     "metadata": {},
     "output_type": "execute_result"
    }
   ],
   "source": [
    "india_df[india_df.Industry == 'Health']['Company']"
   ]
  },
  {
   "cell_type": "code",
   "execution_count": 15,
   "id": "1ad4934c",
   "metadata": {},
   "outputs": [
    {
     "data": {
      "text/plain": [
       "265       OfBusiness\n",
       "292         Lenskart\n",
       "293     Infra.Market\n",
       "339         FirstCry\n",
       "343    Urban Company\n",
       "432           Spinny\n",
       "434           Cars24\n",
       "545      Rebel Foods\n",
       "637         CarDekho\n",
       "638          MyGlamm\n",
       "707         Snapdeal\n",
       "901          Licious\n",
       "Name: Company, dtype: object"
      ]
     },
     "execution_count": 15,
     "metadata": {},
     "output_type": "execute_result"
    }
   ],
   "source": [
    "india_df[india_df.Industry == 'E-commerce & direct-to-consumer']['Company']"
   ]
  },
  {
   "cell_type": "code",
   "execution_count": 16,
   "id": "45de6f6d",
   "metadata": {},
   "outputs": [
    {
     "data": {
      "text/html": [
       "<div>\n",
       "<style scoped>\n",
       "    .dataframe tbody tr th:only-of-type {\n",
       "        vertical-align: middle;\n",
       "    }\n",
       "\n",
       "    .dataframe tbody tr th {\n",
       "        vertical-align: top;\n",
       "    }\n",
       "\n",
       "    .dataframe thead th {\n",
       "        text-align: right;\n",
       "    }\n",
       "</style>\n",
       "<table border=\"1\" class=\"dataframe\">\n",
       "  <thead>\n",
       "    <tr style=\"text-align: right;\">\n",
       "      <th></th>\n",
       "      <th>Company</th>\n",
       "      <th>Valuation ($B)</th>\n",
       "      <th>Industry</th>\n",
       "      <th>Date Joined</th>\n",
       "    </tr>\n",
       "  </thead>\n",
       "  <tbody>\n",
       "    <tr>\n",
       "      <th>12</th>\n",
       "      <td>BYJU's</td>\n",
       "      <td>21.00</td>\n",
       "      <td>Edtech</td>\n",
       "      <td>2017-07-25</td>\n",
       "    </tr>\n",
       "    <tr>\n",
       "      <th>53</th>\n",
       "      <td>OYO Rooms</td>\n",
       "      <td>9.60</td>\n",
       "      <td>Travel</td>\n",
       "      <td>2018-09-25</td>\n",
       "    </tr>\n",
       "    <tr>\n",
       "      <th>62</th>\n",
       "      <td>Dream11</td>\n",
       "      <td>8.00</td>\n",
       "      <td>Internet software &amp; services</td>\n",
       "      <td>2019-04-09</td>\n",
       "    </tr>\n",
       "    <tr>\n",
       "      <th>80</th>\n",
       "      <td>National Stock Exchange of India</td>\n",
       "      <td>6.50</td>\n",
       "      <td>Fintech</td>\n",
       "      <td>2020-07-01</td>\n",
       "    </tr>\n",
       "    <tr>\n",
       "      <th>83</th>\n",
       "      <td>Ola Cabs</td>\n",
       "      <td>7.50</td>\n",
       "      <td>Auto &amp; transportation</td>\n",
       "      <td>2014-10-27</td>\n",
       "    </tr>\n",
       "    <tr>\n",
       "      <th>115</th>\n",
       "      <td>Swiggy</td>\n",
       "      <td>5.50</td>\n",
       "      <td>Supply chain logistics &amp; delivery</td>\n",
       "      <td>2018-06-21</td>\n",
       "    </tr>\n",
       "    <tr>\n",
       "      <th>126</th>\n",
       "      <td>Meesho</td>\n",
       "      <td>4.90</td>\n",
       "      <td>Internet software &amp; services</td>\n",
       "      <td>2021-04-05</td>\n",
       "    </tr>\n",
       "    <tr>\n",
       "      <th>153</th>\n",
       "      <td>CRED</td>\n",
       "      <td>4.01</td>\n",
       "      <td>Fintech</td>\n",
       "      <td>2021-04-06</td>\n",
       "    </tr>\n",
       "    <tr>\n",
       "      <th>193</th>\n",
       "      <td>Digit Insurance</td>\n",
       "      <td>3.50</td>\n",
       "      <td>Fintech</td>\n",
       "      <td>2021-01-15</td>\n",
       "    </tr>\n",
       "    <tr>\n",
       "      <th>199</th>\n",
       "      <td>Unacademy</td>\n",
       "      <td>3.44</td>\n",
       "      <td>Edtech</td>\n",
       "      <td>2020-09-02</td>\n",
       "    </tr>\n",
       "    <tr>\n",
       "      <th>215</th>\n",
       "      <td>Eruditus Executive Education</td>\n",
       "      <td>3.20</td>\n",
       "      <td>Edtech</td>\n",
       "      <td>2021-08-12</td>\n",
       "    </tr>\n",
       "    <tr>\n",
       "      <th>221</th>\n",
       "      <td>Udaan</td>\n",
       "      <td>3.10</td>\n",
       "      <td>Supply chain logistics &amp; delivery</td>\n",
       "      <td>2018-09-04</td>\n",
       "    </tr>\n",
       "    <tr>\n",
       "      <th>231</th>\n",
       "      <td>Delhivery</td>\n",
       "      <td>3.00</td>\n",
       "      <td>Supply chain logistics &amp; delivery</td>\n",
       "      <td>2019-02-27</td>\n",
       "    </tr>\n",
       "    <tr>\n",
       "      <th>234</th>\n",
       "      <td>Pine Labs</td>\n",
       "      <td>3.00</td>\n",
       "      <td>Fintech</td>\n",
       "      <td>2020-01-24</td>\n",
       "    </tr>\n",
       "    <tr>\n",
       "      <th>236</th>\n",
       "      <td>Razorpay</td>\n",
       "      <td>3.00</td>\n",
       "      <td>Fintech</td>\n",
       "      <td>2020-10-11</td>\n",
       "    </tr>\n",
       "    <tr>\n",
       "      <th>245</th>\n",
       "      <td>ShareChat</td>\n",
       "      <td>3.00</td>\n",
       "      <td>Internet software &amp; services</td>\n",
       "      <td>2021-04-08</td>\n",
       "    </tr>\n",
       "    <tr>\n",
       "      <th>252</th>\n",
       "      <td>Ola Electric Mobility</td>\n",
       "      <td>3.00</td>\n",
       "      <td>Auto &amp; transportation</td>\n",
       "      <td>2019-07-02</td>\n",
       "    </tr>\n",
       "    <tr>\n",
       "      <th>257</th>\n",
       "      <td>Groww</td>\n",
       "      <td>3.00</td>\n",
       "      <td>Fintech</td>\n",
       "      <td>2021-04-07</td>\n",
       "    </tr>\n",
       "    <tr>\n",
       "      <th>265</th>\n",
       "      <td>OfBusiness</td>\n",
       "      <td>3.00</td>\n",
       "      <td>E-commerce &amp; direct-to-consumer</td>\n",
       "      <td>2021-07-31</td>\n",
       "    </tr>\n",
       "    <tr>\n",
       "      <th>266</th>\n",
       "      <td>BharatPe</td>\n",
       "      <td>2.85</td>\n",
       "      <td>Fintech</td>\n",
       "      <td>2021-07-30</td>\n",
       "    </tr>\n",
       "    <tr>\n",
       "      <th>292</th>\n",
       "      <td>Lenskart</td>\n",
       "      <td>2.50</td>\n",
       "      <td>E-commerce &amp; direct-to-consumer</td>\n",
       "      <td>2019-12-20</td>\n",
       "    </tr>\n",
       "    <tr>\n",
       "      <th>293</th>\n",
       "      <td>Infra.Market</td>\n",
       "      <td>2.50</td>\n",
       "      <td>E-commerce &amp; direct-to-consumer</td>\n",
       "      <td>2021-02-25</td>\n",
       "    </tr>\n",
       "    <tr>\n",
       "      <th>299</th>\n",
       "      <td>Mobile Premier League</td>\n",
       "      <td>2.45</td>\n",
       "      <td>Internet software &amp; services</td>\n",
       "      <td>2021-09-15</td>\n",
       "    </tr>\n",
       "    <tr>\n",
       "      <th>304</th>\n",
       "      <td>PolicyBazaar</td>\n",
       "      <td>2.40</td>\n",
       "      <td>Fintech</td>\n",
       "      <td>2019-05-06</td>\n",
       "    </tr>\n",
       "    <tr>\n",
       "      <th>339</th>\n",
       "      <td>FirstCry</td>\n",
       "      <td>2.10</td>\n",
       "      <td>E-commerce &amp; direct-to-consumer</td>\n",
       "      <td>2020-02-07</td>\n",
       "    </tr>\n",
       "    <tr>\n",
       "      <th>343</th>\n",
       "      <td>Urban Company</td>\n",
       "      <td>2.10</td>\n",
       "      <td>E-commerce &amp; direct-to-consumer</td>\n",
       "      <td>2021-04-27</td>\n",
       "    </tr>\n",
       "    <tr>\n",
       "      <th>420</th>\n",
       "      <td>CoinSwitch Kuber</td>\n",
       "      <td>1.90</td>\n",
       "      <td>Fintech</td>\n",
       "      <td>2021-10-06</td>\n",
       "    </tr>\n",
       "    <tr>\n",
       "      <th>432</th>\n",
       "      <td>Spinny</td>\n",
       "      <td>1.75</td>\n",
       "      <td>E-commerce &amp; direct-to-consumer</td>\n",
       "      <td>2021-11-24</td>\n",
       "    </tr>\n",
       "    <tr>\n",
       "      <th>434</th>\n",
       "      <td>Cars24</td>\n",
       "      <td>1.84</td>\n",
       "      <td>E-commerce &amp; direct-to-consumer</td>\n",
       "      <td>2020-11-24</td>\n",
       "    </tr>\n",
       "    <tr>\n",
       "      <th>523</th>\n",
       "      <td>CureFit</td>\n",
       "      <td>1.50</td>\n",
       "      <td>Health</td>\n",
       "      <td>2021-11-10</td>\n",
       "    </tr>\n",
       "    <tr>\n",
       "      <th>545</th>\n",
       "      <td>Rebel Foods</td>\n",
       "      <td>1.40</td>\n",
       "      <td>E-commerce &amp; direct-to-consumer</td>\n",
       "      <td>2021-10-07</td>\n",
       "    </tr>\n",
       "    <tr>\n",
       "      <th>547</th>\n",
       "      <td>Five Star Business Finance</td>\n",
       "      <td>1.40</td>\n",
       "      <td>Other</td>\n",
       "      <td>2021-03-26</td>\n",
       "    </tr>\n",
       "    <tr>\n",
       "      <th>631</th>\n",
       "      <td>UpGrad</td>\n",
       "      <td>1.20</td>\n",
       "      <td>Edtech</td>\n",
       "      <td>2021-08-09</td>\n",
       "    </tr>\n",
       "    <tr>\n",
       "      <th>637</th>\n",
       "      <td>CarDekho</td>\n",
       "      <td>1.20</td>\n",
       "      <td>E-commerce &amp; direct-to-consumer</td>\n",
       "      <td>2021-10-13</td>\n",
       "    </tr>\n",
       "    <tr>\n",
       "      <th>638</th>\n",
       "      <td>MyGlamm</td>\n",
       "      <td>1.20</td>\n",
       "      <td>E-commerce &amp; direct-to-consumer</td>\n",
       "      <td>2021-11-10</td>\n",
       "    </tr>\n",
       "    <tr>\n",
       "      <th>640</th>\n",
       "      <td>Pristyn Care</td>\n",
       "      <td>1.20</td>\n",
       "      <td>Health</td>\n",
       "      <td>2021-12-07</td>\n",
       "    </tr>\n",
       "    <tr>\n",
       "      <th>681</th>\n",
       "      <td>CoinDCX</td>\n",
       "      <td>1.10</td>\n",
       "      <td>Fintech</td>\n",
       "      <td>2021-08-10</td>\n",
       "    </tr>\n",
       "    <tr>\n",
       "      <th>683</th>\n",
       "      <td>apna</td>\n",
       "      <td>1.10</td>\n",
       "      <td>Internet software &amp; services</td>\n",
       "      <td>2021-09-15</td>\n",
       "    </tr>\n",
       "    <tr>\n",
       "      <th>686</th>\n",
       "      <td>Acko General Insurance</td>\n",
       "      <td>1.10</td>\n",
       "      <td>Fintech</td>\n",
       "      <td>2021-10-18</td>\n",
       "    </tr>\n",
       "    <tr>\n",
       "      <th>695</th>\n",
       "      <td>Rivigo</td>\n",
       "      <td>1.07</td>\n",
       "      <td>Supply chain logistics &amp; delivery</td>\n",
       "      <td>2019-07-11</td>\n",
       "    </tr>\n",
       "    <tr>\n",
       "      <th>707</th>\n",
       "      <td>Snapdeal</td>\n",
       "      <td>1.00</td>\n",
       "      <td>E-commerce &amp; direct-to-consumer</td>\n",
       "      <td>2014-05-21</td>\n",
       "    </tr>\n",
       "    <tr>\n",
       "      <th>709</th>\n",
       "      <td>InMobi</td>\n",
       "      <td>1.00</td>\n",
       "      <td>Mobile &amp; telecommunications</td>\n",
       "      <td>2014-12-02</td>\n",
       "    </tr>\n",
       "    <tr>\n",
       "      <th>794</th>\n",
       "      <td>DailyHunt</td>\n",
       "      <td>1.00</td>\n",
       "      <td>Internet software &amp; services</td>\n",
       "      <td>2020-12-22</td>\n",
       "    </tr>\n",
       "    <tr>\n",
       "      <th>859</th>\n",
       "      <td>Grofers</td>\n",
       "      <td>1.01</td>\n",
       "      <td>Supply chain logistics &amp; delivery</td>\n",
       "      <td>2021-06-30</td>\n",
       "    </tr>\n",
       "    <tr>\n",
       "      <th>871</th>\n",
       "      <td>BlackBuck</td>\n",
       "      <td>1.00</td>\n",
       "      <td>Supply chain logistics &amp; delivery</td>\n",
       "      <td>2021-07-22</td>\n",
       "    </tr>\n",
       "    <tr>\n",
       "      <th>880</th>\n",
       "      <td>Zetwerk</td>\n",
       "      <td>1.33</td>\n",
       "      <td>Internet software &amp; services</td>\n",
       "      <td>2021-08-20</td>\n",
       "    </tr>\n",
       "    <tr>\n",
       "      <th>898</th>\n",
       "      <td>Vedantu</td>\n",
       "      <td>1.00</td>\n",
       "      <td>Edtech</td>\n",
       "      <td>2021-09-29</td>\n",
       "    </tr>\n",
       "    <tr>\n",
       "      <th>901</th>\n",
       "      <td>Licious</td>\n",
       "      <td>1.00</td>\n",
       "      <td>E-commerce &amp; direct-to-consumer</td>\n",
       "      <td>2021-10-05</td>\n",
       "    </tr>\n",
       "    <tr>\n",
       "      <th>920</th>\n",
       "      <td>Mensa Brands</td>\n",
       "      <td>1.00</td>\n",
       "      <td>Other</td>\n",
       "      <td>2021-11-16</td>\n",
       "    </tr>\n",
       "    <tr>\n",
       "      <th>926</th>\n",
       "      <td>NoBroker</td>\n",
       "      <td>1.00</td>\n",
       "      <td>Internet software &amp; services</td>\n",
       "      <td>2021-11-23</td>\n",
       "    </tr>\n",
       "    <tr>\n",
       "      <th>927</th>\n",
       "      <td>Slice</td>\n",
       "      <td>1.00</td>\n",
       "      <td>Fintech</td>\n",
       "      <td>2021-11-28</td>\n",
       "    </tr>\n",
       "  </tbody>\n",
       "</table>\n",
       "</div>"
      ],
      "text/plain": [
       "                              Company  Valuation ($B)  \\\n",
       "12                             BYJU's           21.00   \n",
       "53                          OYO Rooms            9.60   \n",
       "62                            Dream11            8.00   \n",
       "80   National Stock Exchange of India            6.50   \n",
       "83                           Ola Cabs            7.50   \n",
       "115                            Swiggy            5.50   \n",
       "126                            Meesho            4.90   \n",
       "153                              CRED            4.01   \n",
       "193                   Digit Insurance            3.50   \n",
       "199                         Unacademy            3.44   \n",
       "215      Eruditus Executive Education            3.20   \n",
       "221                             Udaan            3.10   \n",
       "231                         Delhivery            3.00   \n",
       "234                         Pine Labs            3.00   \n",
       "236                          Razorpay            3.00   \n",
       "245                         ShareChat            3.00   \n",
       "252             Ola Electric Mobility            3.00   \n",
       "257                             Groww            3.00   \n",
       "265                        OfBusiness            3.00   \n",
       "266                          BharatPe            2.85   \n",
       "292                          Lenskart            2.50   \n",
       "293                      Infra.Market            2.50   \n",
       "299             Mobile Premier League            2.45   \n",
       "304                      PolicyBazaar            2.40   \n",
       "339                          FirstCry            2.10   \n",
       "343                     Urban Company            2.10   \n",
       "420                  CoinSwitch Kuber            1.90   \n",
       "432                            Spinny            1.75   \n",
       "434                            Cars24            1.84   \n",
       "523                           CureFit            1.50   \n",
       "545                       Rebel Foods            1.40   \n",
       "547        Five Star Business Finance            1.40   \n",
       "631                            UpGrad            1.20   \n",
       "637                          CarDekho            1.20   \n",
       "638                           MyGlamm            1.20   \n",
       "640                      Pristyn Care            1.20   \n",
       "681                           CoinDCX            1.10   \n",
       "683                              apna            1.10   \n",
       "686            Acko General Insurance            1.10   \n",
       "695                            Rivigo            1.07   \n",
       "707                          Snapdeal            1.00   \n",
       "709                            InMobi            1.00   \n",
       "794                         DailyHunt            1.00   \n",
       "859                           Grofers            1.01   \n",
       "871                         BlackBuck            1.00   \n",
       "880                           Zetwerk            1.33   \n",
       "898                           Vedantu            1.00   \n",
       "901                           Licious            1.00   \n",
       "920                      Mensa Brands            1.00   \n",
       "926                          NoBroker            1.00   \n",
       "927                             Slice            1.00   \n",
       "\n",
       "                              Industry Date Joined  \n",
       "12                              Edtech  2017-07-25  \n",
       "53                              Travel  2018-09-25  \n",
       "62        Internet software & services  2019-04-09  \n",
       "80                             Fintech  2020-07-01  \n",
       "83               Auto & transportation  2014-10-27  \n",
       "115  Supply chain logistics & delivery  2018-06-21  \n",
       "126       Internet software & services  2021-04-05  \n",
       "153                            Fintech  2021-04-06  \n",
       "193                            Fintech  2021-01-15  \n",
       "199                             Edtech  2020-09-02  \n",
       "215                             Edtech  2021-08-12  \n",
       "221  Supply chain logistics & delivery  2018-09-04  \n",
       "231  Supply chain logistics & delivery  2019-02-27  \n",
       "234                            Fintech  2020-01-24  \n",
       "236                            Fintech  2020-10-11  \n",
       "245       Internet software & services  2021-04-08  \n",
       "252              Auto & transportation  2019-07-02  \n",
       "257                            Fintech  2021-04-07  \n",
       "265    E-commerce & direct-to-consumer  2021-07-31  \n",
       "266                            Fintech  2021-07-30  \n",
       "292    E-commerce & direct-to-consumer  2019-12-20  \n",
       "293    E-commerce & direct-to-consumer  2021-02-25  \n",
       "299       Internet software & services  2021-09-15  \n",
       "304                            Fintech  2019-05-06  \n",
       "339    E-commerce & direct-to-consumer  2020-02-07  \n",
       "343    E-commerce & direct-to-consumer  2021-04-27  \n",
       "420                            Fintech  2021-10-06  \n",
       "432    E-commerce & direct-to-consumer  2021-11-24  \n",
       "434    E-commerce & direct-to-consumer  2020-11-24  \n",
       "523                             Health  2021-11-10  \n",
       "545    E-commerce & direct-to-consumer  2021-10-07  \n",
       "547                              Other  2021-03-26  \n",
       "631                             Edtech  2021-08-09  \n",
       "637    E-commerce & direct-to-consumer  2021-10-13  \n",
       "638    E-commerce & direct-to-consumer  2021-11-10  \n",
       "640                             Health  2021-12-07  \n",
       "681                            Fintech  2021-08-10  \n",
       "683       Internet software & services  2021-09-15  \n",
       "686                            Fintech  2021-10-18  \n",
       "695  Supply chain logistics & delivery  2019-07-11  \n",
       "707    E-commerce & direct-to-consumer  2014-05-21  \n",
       "709        Mobile & telecommunications  2014-12-02  \n",
       "794       Internet software & services  2020-12-22  \n",
       "859  Supply chain logistics & delivery  2021-06-30  \n",
       "871  Supply chain logistics & delivery  2021-07-22  \n",
       "880       Internet software & services  2021-08-20  \n",
       "898                             Edtech  2021-09-29  \n",
       "901    E-commerce & direct-to-consumer  2021-10-05  \n",
       "920                              Other  2021-11-16  \n",
       "926       Internet software & services  2021-11-23  \n",
       "927                            Fintech  2021-11-28  "
      ]
     },
     "execution_count": 16,
     "metadata": {},
     "output_type": "execute_result"
    }
   ],
   "source": [
    "india_df[['Company','Valuation ($B)','Industry','Date Joined']]"
   ]
  }
 ],
 "metadata": {
  "kernelspec": {
   "display_name": "Python 3",
   "language": "python",
   "name": "python3"
  },
  "language_info": {
   "codemirror_mode": {
    "name": "ipython",
    "version": 3
   },
   "file_extension": ".py",
   "mimetype": "text/x-python",
   "name": "python",
   "nbconvert_exporter": "python",
   "pygments_lexer": "ipython3",
   "version": "3.8.8"
  },
  "papermill": {
   "default_parameters": {},
   "duration": 13.595685,
   "end_time": "2021-12-16T10:44:29.691588",
   "environment_variables": {},
   "exception": null,
   "input_path": "__notebook__.ipynb",
   "output_path": "__notebook__.ipynb",
   "parameters": {},
   "start_time": "2021-12-16T10:44:16.095903",
   "version": "2.3.3"
  }
 },
 "nbformat": 4,
 "nbformat_minor": 5
}
